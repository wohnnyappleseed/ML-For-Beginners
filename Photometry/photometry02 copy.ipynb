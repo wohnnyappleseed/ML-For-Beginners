{
 "cells": [
  {
   "cell_type": "markdown",
   "metadata": {},
   "source": [
    "## Pumpkin Varieties and Color\n",
    "\n",
    "Load up required libraries and dataset. Convert the data to a dataframe containing a subset of the data: \n",
    "\n",
    "Let's look at the relationship between color and variety"
   ]
  },
  {
   "cell_type": "code",
   "execution_count": 2,
   "metadata": {},
   "outputs": [
    {
     "data": {
      "text/html": [
       "<div>\n",
       "<style scoped>\n",
       "    .dataframe tbody tr th:only-of-type {\n",
       "        vertical-align: middle;\n",
       "    }\n",
       "\n",
       "    .dataframe tbody tr th {\n",
       "        vertical-align: top;\n",
       "    }\n",
       "\n",
       "    .dataframe thead th {\n",
       "        text-align: right;\n",
       "    }\n",
       "</style>\n",
       "<table border=\"1\" class=\"dataframe\">\n",
       "  <thead>\n",
       "    <tr style=\"text-align: right;\">\n",
       "      <th></th>\n",
       "      <th>ID</th>\n",
       "      <th>Date</th>\n",
       "      <th>Trial#</th>\n",
       "      <th>Lever</th>\n",
       "      <th>NextLever</th>\n",
       "      <th>WSLS</th>\n",
       "      <th>LeverZmax</th>\n",
       "      <th>LeverZmin</th>\n",
       "      <th>LeverAUC</th>\n",
       "      <th>HLZmax</th>\n",
       "      <th>HLZmin</th>\n",
       "      <th>HLAUC</th>\n",
       "    </tr>\n",
       "  </thead>\n",
       "  <tbody>\n",
       "    <tr>\n",
       "      <th>0</th>\n",
       "      <td>16</td>\n",
       "      <td>230123</td>\n",
       "      <td>1</td>\n",
       "      <td>3</td>\n",
       "      <td>3</td>\n",
       "      <td>1</td>\n",
       "      <td>1.292871</td>\n",
       "      <td>-1.619110</td>\n",
       "      <td>-39.404888</td>\n",
       "      <td>0.388813</td>\n",
       "      <td>-1.497714</td>\n",
       "      <td>-75.713964</td>\n",
       "    </tr>\n",
       "    <tr>\n",
       "      <th>1</th>\n",
       "      <td>16</td>\n",
       "      <td>230123</td>\n",
       "      <td>2</td>\n",
       "      <td>3</td>\n",
       "      <td>3</td>\n",
       "      <td>1</td>\n",
       "      <td>-0.117232</td>\n",
       "      <td>-2.981589</td>\n",
       "      <td>-154.557564</td>\n",
       "      <td>0.854429</td>\n",
       "      <td>-1.816165</td>\n",
       "      <td>-80.799713</td>\n",
       "    </tr>\n",
       "    <tr>\n",
       "      <th>2</th>\n",
       "      <td>16</td>\n",
       "      <td>230123</td>\n",
       "      <td>3</td>\n",
       "      <td>3</td>\n",
       "      <td>3</td>\n",
       "      <td>1</td>\n",
       "      <td>3.017644</td>\n",
       "      <td>-1.618499</td>\n",
       "      <td>29.305127</td>\n",
       "      <td>1.422176</td>\n",
       "      <td>-1.679342</td>\n",
       "      <td>-28.084397</td>\n",
       "    </tr>\n",
       "    <tr>\n",
       "      <th>3</th>\n",
       "      <td>16</td>\n",
       "      <td>230123</td>\n",
       "      <td>4</td>\n",
       "      <td>3</td>\n",
       "      <td>3</td>\n",
       "      <td>1</td>\n",
       "      <td>2.978331</td>\n",
       "      <td>-1.727743</td>\n",
       "      <td>-11.977367</td>\n",
       "      <td>3.453042</td>\n",
       "      <td>-1.292361</td>\n",
       "      <td>95.478958</td>\n",
       "    </tr>\n",
       "    <tr>\n",
       "      <th>4</th>\n",
       "      <td>16</td>\n",
       "      <td>230123</td>\n",
       "      <td>5</td>\n",
       "      <td>3</td>\n",
       "      <td>3</td>\n",
       "      <td>1</td>\n",
       "      <td>-0.852874</td>\n",
       "      <td>-3.262844</td>\n",
       "      <td>-173.243294</td>\n",
       "      <td>-0.331012</td>\n",
       "      <td>-1.374687</td>\n",
       "      <td>-68.738582</td>\n",
       "    </tr>\n",
       "  </tbody>\n",
       "</table>\n",
       "</div>"
      ],
      "text/plain": [
       "   ID    Date  Trial#  Lever  NextLever  WSLS  LeverZmax  LeverZmin  \\\n",
       "0  16  230123       1      3          3     1   1.292871  -1.619110   \n",
       "1  16  230123       2      3          3     1  -0.117232  -2.981589   \n",
       "2  16  230123       3      3          3     1   3.017644  -1.618499   \n",
       "3  16  230123       4      3          3     1   2.978331  -1.727743   \n",
       "4  16  230123       5      3          3     1  -0.852874  -3.262844   \n",
       "\n",
       "     LeverAUC    HLZmax    HLZmin      HLAUC  \n",
       "0  -39.404888  0.388813 -1.497714 -75.713964  \n",
       "1 -154.557564  0.854429 -1.816165 -80.799713  \n",
       "2   29.305127  1.422176 -1.679342 -28.084397  \n",
       "3  -11.977367  3.453042 -1.292361  95.478958  \n",
       "4 -173.243294 -0.331012 -1.374687 -68.738582  "
      ]
     },
     "execution_count": 2,
     "metadata": {},
     "output_type": "execute_result"
    }
   ],
   "source": [
    "import pandas as pd\n",
    "import matplotlib.pyplot as plt\n",
    "import numpy as np\n",
    "from datetime import datetime\n",
    "\n",
    "pumpkins = pd.read_csv('../data/300behavior.csv')\n",
    "\n",
    "pumpkins.head()\n"
   ]
  },
  {
   "cell_type": "code",
   "execution_count": 3,
   "metadata": {},
   "outputs": [
    {
     "data": {
      "text/html": [
       "<div>\n",
       "<style scoped>\n",
       "    .dataframe tbody tr th:only-of-type {\n",
       "        vertical-align: middle;\n",
       "    }\n",
       "\n",
       "    .dataframe tbody tr th {\n",
       "        vertical-align: top;\n",
       "    }\n",
       "\n",
       "    .dataframe thead th {\n",
       "        text-align: right;\n",
       "    }\n",
       "</style>\n",
       "<table border=\"1\" class=\"dataframe\">\n",
       "  <thead>\n",
       "    <tr style=\"text-align: right;\">\n",
       "      <th></th>\n",
       "      <th>Trial#</th>\n",
       "      <th>Lever</th>\n",
       "      <th>NextLever</th>\n",
       "      <th>WSLS</th>\n",
       "      <th>LeverZmax</th>\n",
       "      <th>LeverZmin</th>\n",
       "      <th>LeverAUC</th>\n",
       "      <th>HLZmax</th>\n",
       "      <th>HLZmin</th>\n",
       "      <th>HLAUC</th>\n",
       "    </tr>\n",
       "  </thead>\n",
       "  <tbody>\n",
       "    <tr>\n",
       "      <th>0</th>\n",
       "      <td>1</td>\n",
       "      <td>3</td>\n",
       "      <td>3</td>\n",
       "      <td>1</td>\n",
       "      <td>1.292871</td>\n",
       "      <td>-1.619110</td>\n",
       "      <td>-39.404888</td>\n",
       "      <td>0.388813</td>\n",
       "      <td>-1.497714</td>\n",
       "      <td>-75.713964</td>\n",
       "    </tr>\n",
       "    <tr>\n",
       "      <th>1</th>\n",
       "      <td>2</td>\n",
       "      <td>3</td>\n",
       "      <td>3</td>\n",
       "      <td>1</td>\n",
       "      <td>-0.117232</td>\n",
       "      <td>-2.981589</td>\n",
       "      <td>-154.557564</td>\n",
       "      <td>0.854429</td>\n",
       "      <td>-1.816165</td>\n",
       "      <td>-80.799713</td>\n",
       "    </tr>\n",
       "    <tr>\n",
       "      <th>2</th>\n",
       "      <td>3</td>\n",
       "      <td>3</td>\n",
       "      <td>3</td>\n",
       "      <td>1</td>\n",
       "      <td>3.017644</td>\n",
       "      <td>-1.618499</td>\n",
       "      <td>29.305127</td>\n",
       "      <td>1.422176</td>\n",
       "      <td>-1.679342</td>\n",
       "      <td>-28.084397</td>\n",
       "    </tr>\n",
       "    <tr>\n",
       "      <th>3</th>\n",
       "      <td>4</td>\n",
       "      <td>3</td>\n",
       "      <td>3</td>\n",
       "      <td>1</td>\n",
       "      <td>2.978331</td>\n",
       "      <td>-1.727743</td>\n",
       "      <td>-11.977367</td>\n",
       "      <td>3.453042</td>\n",
       "      <td>-1.292361</td>\n",
       "      <td>95.478958</td>\n",
       "    </tr>\n",
       "    <tr>\n",
       "      <th>4</th>\n",
       "      <td>5</td>\n",
       "      <td>3</td>\n",
       "      <td>3</td>\n",
       "      <td>1</td>\n",
       "      <td>-0.852874</td>\n",
       "      <td>-3.262844</td>\n",
       "      <td>-173.243294</td>\n",
       "      <td>-0.331012</td>\n",
       "      <td>-1.374687</td>\n",
       "      <td>-68.738582</td>\n",
       "    </tr>\n",
       "  </tbody>\n",
       "</table>\n",
       "</div>"
      ],
      "text/plain": [
       "   Trial#  Lever  NextLever  WSLS  LeverZmax  LeverZmin    LeverAUC    HLZmax  \\\n",
       "0       1      3          3     1   1.292871  -1.619110  -39.404888  0.388813   \n",
       "1       2      3          3     1  -0.117232  -2.981589 -154.557564  0.854429   \n",
       "2       3      3          3     1   3.017644  -1.618499   29.305127  1.422176   \n",
       "3       4      3          3     1   2.978331  -1.727743  -11.977367  3.453042   \n",
       "4       5      3          3     1  -0.852874  -3.262844 -173.243294 -0.331012   \n",
       "\n",
       "     HLZmin      HLAUC  \n",
       "0 -1.497714 -75.713964  \n",
       "1 -1.816165 -80.799713  \n",
       "2 -1.679342 -28.084397  \n",
       "3 -1.292361  95.478958  \n",
       "4 -1.374687 -68.738582  "
      ]
     },
     "execution_count": 3,
     "metadata": {},
     "output_type": "execute_result"
    }
   ],
   "source": [
    "columns_to_select = ['Trial#', 'Lever', 'NextLever', 'WSLS', 'LeverZmax', 'LeverZmin', 'LeverAUC', 'HLZmax', 'HLZmin', 'HLAUC']\n",
    "new_pumpkins = pumpkins.loc[:, columns_to_select]\n",
    "\n",
    "new_pumpkins.head()\n"
   ]
  },
  {
   "cell_type": "code",
   "execution_count": 4,
   "metadata": {},
   "outputs": [
    {
     "data": {
      "text/plain": [
       "<bound method DataFrame.info of       Trial#  Lever  NextLever  WSLS  LeverZmax  LeverZmin    LeverAUC  \\\n",
       "0          1      3          3     1   1.292871  -1.619110  -39.404888   \n",
       "1          2      3          3     1  -0.117232  -2.981589 -154.557564   \n",
       "2          3      3          3     1   3.017644  -1.618499   29.305127   \n",
       "3          4      3          3     1   2.978331  -1.727743  -11.977367   \n",
       "4          5      3          3     1  -0.852874  -3.262844 -173.243294   \n",
       "...      ...    ...        ...   ...        ...        ...         ...   \n",
       "1672      51      3          1     3   3.332265  -1.602789  115.062938   \n",
       "1673      52      1          0     0   4.506867  -2.054242  145.104620   \n",
       "1674      55      1          2     0   0.637471  -3.201188 -152.723927   \n",
       "1675      56      2          0     2   2.911747  -0.353442  142.243917   \n",
       "1676      59      1          0     0   1.568098  -1.403199   -1.866457   \n",
       "\n",
       "        HLZmax    HLZmin       HLAUC  \n",
       "0     0.388813 -1.497714  -75.713964  \n",
       "1     0.854429 -1.816165  -80.799713  \n",
       "2     1.422176 -1.679342  -28.084397  \n",
       "3     3.453042 -1.292361   95.478958  \n",
       "4    -0.331012 -1.374687  -68.738582  \n",
       "...        ...       ...         ...  \n",
       "1672  2.267571 -2.405807  -11.777912  \n",
       "1673  6.938257  1.800629  426.061993  \n",
       "1674  4.361066 -1.459229   88.204134  \n",
       "1675  2.542664  0.129606  105.039027  \n",
       "1676  4.031175 -1.432087  117.981146  \n",
       "\n",
       "[1677 rows x 10 columns]>"
      ]
     },
     "execution_count": 4,
     "metadata": {},
     "output_type": "execute_result"
    }
   ],
   "source": [
    "new_pumpkins.info\n"
   ]
  },
  {
   "cell_type": "code",
   "execution_count": 20,
   "metadata": {},
   "outputs": [
    {
     "data": {
      "text/plain": [
       "<seaborn.axisgrid.FacetGrid at 0x210f1cb4440>"
      ]
     },
     "execution_count": 20,
     "metadata": {},
     "output_type": "execute_result"
    },
    {
     "data": {
      "image/png": "[encoded data removed]",
      "text/plain": [
       "<Figure size 558.875x500 with 1 Axes>"
      ]
     },
     "metadata": {},
     "output_type": "display_data"
    }
   ],
   "source": [
    "palette = {\n",
    "    1: 'green',\n",
    "    2: 'red',\n",
    "    3: 'blue'\n",
    "}\n",
    "\n",
    "sns.catplot(\n",
    "data=new_pumpkins, y=\"NextLever\", hue=\"Lever\", kind=\"count\",\n",
    "palette=palette,\n",
    ")"
   ]
  },
  {
   "cell_type": "code",
   "execution_count": 6,
   "metadata": {},
   "outputs": [
    {
     "name": "stdout",
     "output_type": "stream",
     "text": [
      "Requirement already satisfied: scikit-learn in c:\\users\\wonnp\\documents\\github\\ml-for-beginners\\.virtualenv\\lib\\site-packages (1.3.2)Note: you may need to restart the kernel to use updated packages.\n",
      "\n",
      "Requirement already satisfied: numpy<2.0,>=1.17.3 in c:\\users\\wonnp\\documents\\github\\ml-for-beginners\\.virtualenv\\lib\\site-packages (from scikit-learn) (1.26.2)\n",
      "Requirement already satisfied: scipy>=1.5.0 in c:\\users\\wonnp\\documents\\github\\ml-for-beginners\\.virtualenv\\lib\\site-packages (from scikit-learn) (1.11.4)\n",
      "Requirement already satisfied: joblib>=1.1.1 in c:\\users\\wonnp\\documents\\github\\ml-for-beginners\\.virtualenv\\lib\\site-packages (from scikit-learn) (1.3.2)\n",
      "Requirement already satisfied: threadpoolctl>=2.0.0 in c:\\users\\wonnp\\documents\\github\\ml-for-beginners\\.virtualenv\\lib\\site-packages (from scikit-learn) (3.2.0)\n"
     ]
    },
    {
     "name": "stderr",
     "output_type": "stream",
     "text": [
      "\n",
      "[notice] A new release of pip is available: 23.2.1 -> 23.3.2\n",
      "[notice] To update, run: python.exe -m pip install --upgrade pip\n"
     ]
    }
   ],
   "source": [
    "pip install -U scikit-learn\n"
   ]
  },
  {
   "cell_type": "code",
   "execution_count": 13,
   "metadata": {},
   "outputs": [
    {
     "name": "stderr",
     "output_type": "stream",
     "text": [
      "C:\\Users\\wonnp\\AppData\\Local\\Temp\\ipykernel_26288\\848516191.py:9: FutureWarning: \n",
      "\n",
      "Passing `palette` without assigning `hue` is deprecated and will be removed in v0.14.0. Assign the `y` variable to `hue` and set `legend=False` for the same effect.\n",
      "\n",
      "  g = sns.catplot(\n"
     ]
    },
    {
     "data": {
      "text/plain": [
       "<seaborn.axisgrid.FacetGrid at 0x210f0d26960>"
      ]
     },
     "execution_count": 13,
     "metadata": {},
     "output_type": "execute_result"
    },
    {
     "data": {
      "image/png": "[encoded data removed]",
      "text/plain": [
       "<Figure size 778.875x900 with 5 Axes>"
      ]
     },
     "metadata": {},
     "output_type": "display_data"
    }
   ],
   "source": [
    "import seaborn as sns\n",
    "palette = {\n",
    "'1': 'green',\n",
    "'2': 'red',\n",
    "'3': 'blue'\n",
    "}\n",
    "pumpkins['LeverAUC'] = new_pumpkins['LeverAUC']\n",
    "\n",
    "g = sns.catplot(\n",
    "    data=pumpkins,\n",
    "    x=\"LeverAUC\", y=\"Lever\", row='NextLever',\n",
    "    kind=\"box\", orient=\"h\",\n",
    "    sharex=False, margin_titles=True,\n",
    "    height=1.8, aspect=4, palette=palette,\n",
    ")\n",
    "g.set(xlabel=\"Lever AUC\", ylabel=\"\").set(xlim=(-400,400))\n",
    "g.set_titles(row_template=\"{row_name}\")"
   ]
  },
  {
   "cell_type": "code",
   "execution_count": 23,
   "metadata": {},
   "outputs": [
    {
     "data": {
      "text/plain": [
       "<bound method NDFrame.head of       Lever  NextLever    LeverAUC       HLAUC\n",
       "0         3          3  -39.404888  -75.713964\n",
       "1         3          3 -154.557564  -80.799713\n",
       "2         3          3   29.305127  -28.084397\n",
       "3         3          3  -11.977367   95.478958\n",
       "4         3          3 -173.243294  -68.738582\n",
       "...     ...        ...         ...         ...\n",
       "1672      3          1  115.062938  -11.777912\n",
       "1673      1          0  145.104620  426.061993\n",
       "1674      1          2 -152.723927   88.204134\n",
       "1675      2          0  142.243917  105.039027\n",
       "1676      1          0   -1.866457  117.981146\n",
       "\n",
       "[1677 rows x 4 columns]>"
      ]
     },
     "execution_count": 23,
     "metadata": {},
     "output_type": "execute_result"
    }
   ],
   "source": [
    "new_pumpkins.head\n",
    "col_pumpkins = ['Lever', 'NextLever', 'LeverAUC', 'HLAUC']\n",
    "\n",
    "model_pumpkins = pumpkins[col_pumpkins]\n",
    "model_pumpkins.head"
   ]
  },
  {
   "cell_type": "code",
   "execution_count": 24,
   "metadata": {},
   "outputs": [],
   "source": [
    "from sklearn.model_selection import train_test_split\n",
    "\n",
    "X = model_pumpkins[model_pumpkins.columns.difference(['NextLever'])]\n",
    "y = model_pumpkins['NextLever']\n",
    "\n",
    "X_train, X_test, y_train, y_test = train_test_split(X, y, test_size=0.2, random_state=0)\n"
   ]
  },
  {
   "cell_type": "code",
   "execution_count": 28,
   "metadata": {},
   "outputs": [
    {
     "name": "stdout",
     "output_type": "stream",
     "text": [
      "              precision    recall  f1-score   support\n",
      "\n",
      "           0       0.00      0.00      0.00        13\n",
      "           1       0.00      0.00      0.00        16\n",
      "           2       0.44      0.55      0.49        84\n",
      "           3       0.78      0.85      0.81       211\n",
      "           9       0.00      0.00      0.00        12\n",
      "\n",
      "    accuracy                           0.67       336\n",
      "   macro avg       0.24      0.28      0.26       336\n",
      "weighted avg       0.60      0.67      0.63       336\n",
      "\n",
      "Predicted labels:  [3 3 2 2 3 3 2 3 3 3 3 3 3 3 3 3 2 3 3 2 3 3 3 3 3 3 2 3 2 3 2 2 2 3 3 3 2\n",
      " 2 3 2 3 2 3 3 3 2 3 2 3 3 3 3 3 3 3 2 3 3 3 3 2 3 3 3 3 2 3 3 3 2 2 3 3 2\n",
      " 2 3 3 3 3 3 2 3 3 3 3 3 2 3 2 2 3 3 3 3 3 3 2 3 3 3 3 3 2 3 3 2 3 2 3 3 2\n",
      " 2 3 3 3 3 2 3 3 3 2 3 3 3 2 3 3 3 2 3 3 3 3 3 2 2 3 2 3 3 2 3 3 3 3 3 2 3\n",
      " 2 3 2 2 2 2 3 3 2 2 3 2 2 2 2 3 2 2 3 3 3 3 3 2 2 3 2 3 3 3 3 3 3 3 3 3 3\n",
      " 3 3 3 3 2 3 3 3 2 3 3 3 3 3 2 3 2 3 3 3 2 2 3 3 3 3 3 2 3 3 3 3 2 3 3 3 2\n",
      " 3 3 3 3 3 3 2 3 2 2 2 2 3 3 2 3 3 3 2 3 3 2 3 2 3 2 3 3 3 3 2 3 3 3 3 3 3\n",
      " 2 2 3 2 3 2 3 3 3 2 2 3 3 2 3 2 2 3 3 3 2 2 2 2 3 3 3 3 3 2 3 2 3 2 3 3 3\n",
      " 3 3 2 3 3 2 3 2 3 2 2 3 3 3 3 3 3 2 3 2 2 3 3 3 3 2 3 3 3 3 3 3 3 2 3 2 3\n",
      " 3 3 3]\n",
      "F1-score:  0.6331669419904714\n"
     ]
    },
    {
     "name": "stderr",
     "output_type": "stream",
     "text": [
      "c:\\Users\\wonnp\\Documents\\GitHub\\ML-For-Beginners\\.virtualenv\\Lib\\site-packages\\sklearn\\linear_model\\_logistic.py:460: ConvergenceWarning: lbfgs failed to converge (status=1):\n",
      "STOP: TOTAL NO. of ITERATIONS REACHED LIMIT.\n",
      "\n",
      "Increase the number of iterations (max_iter) or scale the data as shown in:\n",
      "    https://scikit-learn.org/stable/modules/preprocessing.html\n",
      "Please also refer to the documentation for alternative solver options:\n",
      "    https://scikit-learn.org/stable/modules/linear_model.html#logistic-regression\n",
      "  n_iter_i = _check_optimize_result(\n",
      "c:\\Users\\wonnp\\Documents\\GitHub\\ML-For-Beginners\\.virtualenv\\Lib\\site-packages\\sklearn\\metrics\\_classification.py:1471: UndefinedMetricWarning: Precision and F-score are ill-defined and being set to 0.0 in labels with no predicted samples. Use `zero_division` parameter to control this behavior.\n",
      "  _warn_prf(average, modifier, msg_start, len(result))\n",
      "c:\\Users\\wonnp\\Documents\\GitHub\\ML-For-Beginners\\.virtualenv\\Lib\\site-packages\\sklearn\\metrics\\_classification.py:1471: UndefinedMetricWarning: Precision and F-score are ill-defined and being set to 0.0 in labels with no predicted samples. Use `zero_division` parameter to control this behavior.\n",
      "  _warn_prf(average, modifier, msg_start, len(result))\n",
      "c:\\Users\\wonnp\\Documents\\GitHub\\ML-For-Beginners\\.virtualenv\\Lib\\site-packages\\sklearn\\metrics\\_classification.py:1471: UndefinedMetricWarning: Precision and F-score are ill-defined and being set to 0.0 in labels with no predicted samples. Use `zero_division` parameter to control this behavior.\n",
      "  _warn_prf(average, modifier, msg_start, len(result))\n"
     ]
    }
   ],
   "source": [
    "from sklearn.metrics import f1_score, classification_report \n",
    "from sklearn.linear_model import LogisticRegression\n",
    "\n",
    "model = LogisticRegression()\n",
    "model.fit(X_train, y_train)\n",
    "predictions = model.predict(X_test)\n",
    "\n",
    "print(classification_report(y_test, predictions))\n",
    "print('Predicted labels: ', predictions)\n",
    "print('F1-score: ', f1_score(y_test, predictions, average='weighted'))"
   ]
  },
  {
   "cell_type": "code",
   "execution_count": 29,
   "metadata": {},
   "outputs": [
    {
     "data": {
      "text/plain": [
       "array([[  0,   0,   9,   4,   0],\n",
       "       [  0,   0,  14,   2,   0],\n",
       "       [  0,   0,  46,  38,   0],\n",
       "       [  0,   0,  31, 180,   0],\n",
       "       [  0,   0,   5,   7,   0]], dtype=int64)"
      ]
     },
     "execution_count": 29,
     "metadata": {},
     "output_type": "execute_result"
    }
   ],
   "source": [
    "from sklearn.metrics import confusion_matrix\n",
    "confusion_matrix(y_test, predictions)"
   ]
  },
  {
   "cell_type": "markdown",
   "metadata": {},
   "source": [
    "In Scikit-learn, confusion matrices Rows (axis 0) are actual labels and columns (axis 1) are predicted labels.\n",
    "\n",
    "    0\t1\n",
    "0\tTN\tFP\n",
    "1\tFN\tTP"
   ]
  },
  {
   "cell_type": "code",
   "execution_count": 30,
   "metadata": {},
   "outputs": [
    {
     "ename": "ValueError",
     "evalue": "multiclass format is not supported",
     "output_type": "error",
     "traceback": [
      "\u001b[1;31m---------------------------------------------------------------------------\u001b[0m",
      "\u001b[1;31mValueError\u001b[0m                                Traceback (most recent call last)",
      "Cell \u001b[1;32mIn[30], line 7\u001b[0m\n\u001b[0;32m      4\u001b[0m get_ipython()\u001b[38;5;241m.\u001b[39mrun_line_magic(\u001b[38;5;124m'\u001b[39m\u001b[38;5;124mmatplotlib\u001b[39m\u001b[38;5;124m'\u001b[39m, \u001b[38;5;124m'\u001b[39m\u001b[38;5;124minline\u001b[39m\u001b[38;5;124m'\u001b[39m)\n\u001b[0;32m      6\u001b[0m y_scores \u001b[38;5;241m=\u001b[39m model\u001b[38;5;241m.\u001b[39mpredict_proba(X_test)\n\u001b[1;32m----> 7\u001b[0m fpr, tpr, thresholds \u001b[38;5;241m=\u001b[39m \u001b[43mroc_curve\u001b[49m\u001b[43m(\u001b[49m\u001b[43my_test\u001b[49m\u001b[43m,\u001b[49m\u001b[43m \u001b[49m\u001b[43my_scores\u001b[49m\u001b[43m[\u001b[49m\u001b[43m:\u001b[49m\u001b[43m,\u001b[49m\u001b[38;5;241;43m1\u001b[39;49m\u001b[43m]\u001b[49m\u001b[43m)\u001b[49m\n\u001b[0;32m      9\u001b[0m fig \u001b[38;5;241m=\u001b[39m plt\u001b[38;5;241m.\u001b[39mfigure(figsize\u001b[38;5;241m=\u001b[39m(\u001b[38;5;241m6\u001b[39m, \u001b[38;5;241m6\u001b[39m))\n\u001b[0;32m     10\u001b[0m plt\u001b[38;5;241m.\u001b[39mplot([\u001b[38;5;241m0\u001b[39m, \u001b[38;5;241m1\u001b[39m], [\u001b[38;5;241m0\u001b[39m, \u001b[38;5;241m1\u001b[39m], \u001b[38;5;124m'\u001b[39m\u001b[38;5;124mk--\u001b[39m\u001b[38;5;124m'\u001b[39m)\n",
      "File \u001b[1;32mc:\\Users\\wonnp\\Documents\\GitHub\\ML-For-Beginners\\.virtualenv\\Lib\\site-packages\\sklearn\\utils\\_param_validation.py:214\u001b[0m, in \u001b[0;36mvalidate_params.<locals>.decorator.<locals>.wrapper\u001b[1;34m(*args, **kwargs)\u001b[0m\n\u001b[0;32m    208\u001b[0m \u001b[38;5;28;01mtry\u001b[39;00m:\n\u001b[0;32m    209\u001b[0m     \u001b[38;5;28;01mwith\u001b[39;00m config_context(\n\u001b[0;32m    210\u001b[0m         skip_parameter_validation\u001b[38;5;241m=\u001b[39m(\n\u001b[0;32m    211\u001b[0m             prefer_skip_nested_validation \u001b[38;5;129;01mor\u001b[39;00m global_skip_validation\n\u001b[0;32m    212\u001b[0m         )\n\u001b[0;32m    213\u001b[0m     ):\n\u001b[1;32m--> 214\u001b[0m         \u001b[38;5;28;01mreturn\u001b[39;00m \u001b[43mfunc\u001b[49m\u001b[43m(\u001b[49m\u001b[38;5;241;43m*\u001b[39;49m\u001b[43margs\u001b[49m\u001b[43m,\u001b[49m\u001b[43m \u001b[49m\u001b[38;5;241;43m*\u001b[39;49m\u001b[38;5;241;43m*\u001b[39;49m\u001b[43mkwargs\u001b[49m\u001b[43m)\u001b[49m\n\u001b[0;32m    215\u001b[0m \u001b[38;5;28;01mexcept\u001b[39;00m InvalidParameterError \u001b[38;5;28;01mas\u001b[39;00m e:\n\u001b[0;32m    216\u001b[0m     \u001b[38;5;66;03m# When the function is just a wrapper around an estimator, we allow\u001b[39;00m\n\u001b[0;32m    217\u001b[0m     \u001b[38;5;66;03m# the function to delegate validation to the estimator, but we replace\u001b[39;00m\n\u001b[0;32m    218\u001b[0m     \u001b[38;5;66;03m# the name of the estimator by the name of the function in the error\u001b[39;00m\n\u001b[0;32m    219\u001b[0m     \u001b[38;5;66;03m# message to avoid confusion.\u001b[39;00m\n\u001b[0;32m    220\u001b[0m     msg \u001b[38;5;241m=\u001b[39m re\u001b[38;5;241m.\u001b[39msub(\n\u001b[0;32m    221\u001b[0m         \u001b[38;5;124mr\u001b[39m\u001b[38;5;124m\"\u001b[39m\u001b[38;5;124mparameter of \u001b[39m\u001b[38;5;124m\\\u001b[39m\u001b[38;5;124mw+ must be\u001b[39m\u001b[38;5;124m\"\u001b[39m,\n\u001b[0;32m    222\u001b[0m         \u001b[38;5;124mf\u001b[39m\u001b[38;5;124m\"\u001b[39m\u001b[38;5;124mparameter of \u001b[39m\u001b[38;5;132;01m{\u001b[39;00mfunc\u001b[38;5;241m.\u001b[39m\u001b[38;5;18m__qualname__\u001b[39m\u001b[38;5;132;01m}\u001b[39;00m\u001b[38;5;124m must be\u001b[39m\u001b[38;5;124m\"\u001b[39m,\n\u001b[0;32m    223\u001b[0m         \u001b[38;5;28mstr\u001b[39m(e),\n\u001b[0;32m    224\u001b[0m     )\n",
      "File \u001b[1;32mc:\\Users\\wonnp\\Documents\\GitHub\\ML-For-Beginners\\.virtualenv\\Lib\\site-packages\\sklearn\\metrics\\_ranking.py:1095\u001b[0m, in \u001b[0;36mroc_curve\u001b[1;34m(y_true, y_score, pos_label, sample_weight, drop_intermediate)\u001b[0m\n\u001b[0;32m    993\u001b[0m \u001b[38;5;129m@validate_params\u001b[39m(\n\u001b[0;32m    994\u001b[0m     {\n\u001b[0;32m    995\u001b[0m         \u001b[38;5;124m\"\u001b[39m\u001b[38;5;124my_true\u001b[39m\u001b[38;5;124m\"\u001b[39m: [\u001b[38;5;124m\"\u001b[39m\u001b[38;5;124marray-like\u001b[39m\u001b[38;5;124m\"\u001b[39m],\n\u001b[1;32m   (...)\u001b[0m\n\u001b[0;32m   1004\u001b[0m     y_true, y_score, \u001b[38;5;241m*\u001b[39m, pos_label\u001b[38;5;241m=\u001b[39m\u001b[38;5;28;01mNone\u001b[39;00m, sample_weight\u001b[38;5;241m=\u001b[39m\u001b[38;5;28;01mNone\u001b[39;00m, drop_intermediate\u001b[38;5;241m=\u001b[39m\u001b[38;5;28;01mTrue\u001b[39;00m\n\u001b[0;32m   1005\u001b[0m ):\n\u001b[0;32m   1006\u001b[0m \u001b[38;5;250m    \u001b[39m\u001b[38;5;124;03m\"\"\"Compute Receiver operating characteristic (ROC).\u001b[39;00m\n\u001b[0;32m   1007\u001b[0m \n\u001b[0;32m   1008\u001b[0m \u001b[38;5;124;03m    Note: this implementation is restricted to the binary classification task.\u001b[39;00m\n\u001b[1;32m   (...)\u001b[0m\n\u001b[0;32m   1093\u001b[0m \u001b[38;5;124;03m    array([ inf, 0.8 , 0.4 , 0.35, 0.1 ])\u001b[39;00m\n\u001b[0;32m   1094\u001b[0m \u001b[38;5;124;03m    \"\"\"\u001b[39;00m\n\u001b[1;32m-> 1095\u001b[0m     fps, tps, thresholds \u001b[38;5;241m=\u001b[39m \u001b[43m_binary_clf_curve\u001b[49m\u001b[43m(\u001b[49m\n\u001b[0;32m   1096\u001b[0m \u001b[43m        \u001b[49m\u001b[43my_true\u001b[49m\u001b[43m,\u001b[49m\u001b[43m \u001b[49m\u001b[43my_score\u001b[49m\u001b[43m,\u001b[49m\u001b[43m \u001b[49m\u001b[43mpos_label\u001b[49m\u001b[38;5;241;43m=\u001b[39;49m\u001b[43mpos_label\u001b[49m\u001b[43m,\u001b[49m\u001b[43m \u001b[49m\u001b[43msample_weight\u001b[49m\u001b[38;5;241;43m=\u001b[39;49m\u001b[43msample_weight\u001b[49m\n\u001b[0;32m   1097\u001b[0m \u001b[43m    \u001b[49m\u001b[43m)\u001b[49m\n\u001b[0;32m   1099\u001b[0m     \u001b[38;5;66;03m# Attempt to drop thresholds corresponding to points in between and\u001b[39;00m\n\u001b[0;32m   1100\u001b[0m     \u001b[38;5;66;03m# collinear with other points. These are always suboptimal and do not\u001b[39;00m\n\u001b[0;32m   1101\u001b[0m     \u001b[38;5;66;03m# appear on a plotted ROC curve (and thus do not affect the AUC).\u001b[39;00m\n\u001b[1;32m   (...)\u001b[0m\n\u001b[0;32m   1106\u001b[0m     \u001b[38;5;66;03m# but does not drop more complicated cases like fps = [1, 3, 7],\u001b[39;00m\n\u001b[0;32m   1107\u001b[0m     \u001b[38;5;66;03m# tps = [1, 2, 4]; there is no harm in keeping too many thresholds.\u001b[39;00m\n\u001b[0;32m   1108\u001b[0m     \u001b[38;5;28;01mif\u001b[39;00m drop_intermediate \u001b[38;5;129;01mand\u001b[39;00m \u001b[38;5;28mlen\u001b[39m(fps) \u001b[38;5;241m>\u001b[39m \u001b[38;5;241m2\u001b[39m:\n",
      "File \u001b[1;32mc:\\Users\\wonnp\\Documents\\GitHub\\ML-For-Beginners\\.virtualenv\\Lib\\site-packages\\sklearn\\metrics\\_ranking.py:804\u001b[0m, in \u001b[0;36m_binary_clf_curve\u001b[1;34m(y_true, y_score, pos_label, sample_weight)\u001b[0m\n\u001b[0;32m    802\u001b[0m y_type \u001b[38;5;241m=\u001b[39m type_of_target(y_true, input_name\u001b[38;5;241m=\u001b[39m\u001b[38;5;124m\"\u001b[39m\u001b[38;5;124my_true\u001b[39m\u001b[38;5;124m\"\u001b[39m)\n\u001b[0;32m    803\u001b[0m \u001b[38;5;28;01mif\u001b[39;00m \u001b[38;5;129;01mnot\u001b[39;00m (y_type \u001b[38;5;241m==\u001b[39m \u001b[38;5;124m\"\u001b[39m\u001b[38;5;124mbinary\u001b[39m\u001b[38;5;124m\"\u001b[39m \u001b[38;5;129;01mor\u001b[39;00m (y_type \u001b[38;5;241m==\u001b[39m \u001b[38;5;124m\"\u001b[39m\u001b[38;5;124mmulticlass\u001b[39m\u001b[38;5;124m\"\u001b[39m \u001b[38;5;129;01mand\u001b[39;00m pos_label \u001b[38;5;129;01mis\u001b[39;00m \u001b[38;5;129;01mnot\u001b[39;00m \u001b[38;5;28;01mNone\u001b[39;00m)):\n\u001b[1;32m--> 804\u001b[0m     \u001b[38;5;28;01mraise\u001b[39;00m \u001b[38;5;167;01mValueError\u001b[39;00m(\u001b[38;5;124m\"\u001b[39m\u001b[38;5;132;01m{0}\u001b[39;00m\u001b[38;5;124m format is not supported\u001b[39m\u001b[38;5;124m\"\u001b[39m\u001b[38;5;241m.\u001b[39mformat(y_type))\n\u001b[0;32m    806\u001b[0m check_consistent_length(y_true, y_score, sample_weight)\n\u001b[0;32m    807\u001b[0m y_true \u001b[38;5;241m=\u001b[39m column_or_1d(y_true)\n",
      "\u001b[1;31mValueError\u001b[0m: multiclass format is not supported"
     ]
    }
   ],
   "source": [
    "from sklearn.metrics import roc_curve, roc_auc_score\n",
    "import matplotlib\n",
    "import matplotlib.pyplot as plt\n",
    "%matplotlib inline\n",
    "\n",
    "y_scores = model.predict_proba(X_test)\n",
    "fpr, tpr, thresholds = roc_curve(y_test, y_scores[:,1])\n",
    "\n",
    "fig = plt.figure(figsize=(6, 6))\n",
    "plt.plot([0, 1], [0, 1], 'k--')\n",
    "plt.plot(fpr, tpr)\n",
    "plt.xlabel('False Positive Rate')\n",
    "plt.ylabel('True Positive Rate')\n",
    "plt.title('ROC Curve')\n",
    "plt.show()"
   ]
  },
  {
   "cell_type": "code",
   "execution_count": 28,
   "metadata": {},
   "outputs": [
    {
     "name": "stdout",
     "output_type": "stream",
     "text": [
      "0.9749908725812341\n"
     ]
    }
   ],
   "source": [
    "auc = roc_auc_score(y_test,y_scores[:,1])\n",
    "print(auc)"
   ]
  },
  {
   "cell_type": "code",
   "execution_count": null,
   "metadata": {},
   "outputs": [],
   "source": []
  }
 ],
 "metadata": {
  "kernelspec": {
   "display_name": "Python 3",
   "language": "python",
   "name": "python3"
  },
  "language_info": {
   "codemirror_mode": {
    "name": "ipython",
    "version": 3
   },
   "file_extension": ".py",
   "mimetype": "text/x-python",
   "name": "python",
   "nbconvert_exporter": "python",
   "pygments_lexer": "ipython3",
   "version": "3.12.0"
  },
  "metadata": {
   "interpreter": {
    "hash": "70b38d7a306a849643e446cd70466270a13445e5987dfa1344ef2b127438fa4d"
   }
  },
  "orig_nbformat": 2
 },
 "nbformat": 4,
 "nbformat_minor": 2
}
