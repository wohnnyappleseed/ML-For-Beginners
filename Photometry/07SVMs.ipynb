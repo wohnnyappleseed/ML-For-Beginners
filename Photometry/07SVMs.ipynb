{
 "cells": [
  {
   "cell_type": "code",
   "execution_count": 2,
   "metadata": {},
   "outputs": [],
   "source": [
    "import pandas as pd\n",
    "from sklearn.model_selection import train_test_split\n",
    "from sklearn.linear_model import LogisticRegression\n",
    "from sklearn.metrics import classification_report, confusion_matrix\n",
    "from sklearn.preprocessing import StandardScaler"
   ]
  },
  {
   "cell_type": "code",
   "execution_count": 13,
   "metadata": {},
   "outputs": [],
   "source": [
    "behav = pd.read_csv('C:/Users/Wonn/Documents/GitHub/ML-For-Beginners/Photometry/data/300behavior.csv')\n",
    "\n",
    "# Assuming behav is your DataFrame and it's already imported\n",
    "# Replace all occurrences of 3 with 2 in the 'NextLever' column\n",
    "removeOmits = behav[behav['NextLever'] != 0]\n"
   ]
  },
  {
   "cell_type": "code",
   "execution_count": 14,
   "metadata": {},
   "outputs": [
    {
     "name": "stderr",
     "output_type": "stream",
     "text": [
      "C:\\Users\\Wonn\\AppData\\Local\\Temp\\ipykernel_6128\\3326641232.py:1: SettingWithCopyWarning: \n",
      "A value is trying to be set on a copy of a slice from a DataFrame.\n",
      "Try using .loc[row_indexer,col_indexer] = value instead\n",
      "\n",
      "See the caveats in the documentation: https://pandas.pydata.org/pandas-docs/stable/user_guide/indexing.html#returning-a-view-versus-a-copy\n",
      "  removeOmits['NextLever'] = removeOmits['NextLever'].replace(1, 0)\n",
      "C:\\Users\\Wonn\\AppData\\Local\\Temp\\ipykernel_6128\\3326641232.py:2: SettingWithCopyWarning: \n",
      "A value is trying to be set on a copy of a slice from a DataFrame.\n",
      "Try using .loc[row_indexer,col_indexer] = value instead\n",
      "\n",
      "See the caveats in the documentation: https://pandas.pydata.org/pandas-docs/stable/user_guide/indexing.html#returning-a-view-versus-a-copy\n",
      "  removeOmits['NextLever'] = removeOmits['NextLever'].replace(3, 1)\n",
      "C:\\Users\\Wonn\\AppData\\Local\\Temp\\ipykernel_6128\\3326641232.py:3: SettingWithCopyWarning: \n",
      "A value is trying to be set on a copy of a slice from a DataFrame.\n",
      "Try using .loc[row_indexer,col_indexer] = value instead\n",
      "\n",
      "See the caveats in the documentation: https://pandas.pydata.org/pandas-docs/stable/user_guide/indexing.html#returning-a-view-versus-a-copy\n",
      "  removeOmits['NextLever'] = removeOmits['NextLever'].replace(2, 1)\n"
     ]
    }
   ],
   "source": [
    "removeOmits['NextLever'] = removeOmits['NextLever'].replace(1, 0)\n",
    "removeOmits['NextLever'] = removeOmits['NextLever'].replace(3, 1)\n",
    "removeOmits['NextLever'] = removeOmits['NextLever'].replace(2, 1)\n",
    "\n",
    "ex29 = removeOmits[removeOmits['ID'] != 29]\n",
    "\n",
    "df = ex29[(ex29['Trial#'] > 20) & ~(ex29['Trial#'].isin([40, 60]))]\n",
    "\n",
    "df.head\n",
    "\n",
    "feature_names = ['LeverZmax','LeverZmin','HLZmax','HLZmin'] \n"
   ]
  },
  {
   "cell_type": "code",
   "execution_count": 17,
   "metadata": {},
   "outputs": [
    {
     "name": "stdout",
     "output_type": "stream",
     "text": [
      "Classification Report:\n",
      "              precision    recall  f1-score   support\n",
      "\n",
      "           0       0.61      0.62      0.62        32\n",
      "           1       0.94      0.94      0.94       205\n",
      "\n",
      "    accuracy                           0.89       237\n",
      "   macro avg       0.77      0.78      0.78       237\n",
      "weighted avg       0.90      0.89      0.90       237\n",
      "\n",
      "Confusion Matrix:\n",
      "[[ 20  12]\n",
      " [ 13 192]]\n"
     ]
    }
   ],
   "source": [
    "from sklearn.svm import SVC\n",
    "from sklearn.metrics import classification_report, confusion_matrix\n",
    "from sklearn.model_selection import train_test_split\n",
    "\n",
    "# Assuming you have a DataFrame 'df' and a target variable 'target'\n",
    "\n",
    "# Splitting data into features and target\n",
    "X = df.drop('NextLever', axis=1)  # Replace 'target' with your target column name\n",
    "y = df['NextLever']\n",
    "\n",
    "# Splitting the dataset into train and test sets\n",
    "X_train, X_test, y_train, y_test = train_test_split(X, y, test_size=0.3, random_state=42)\n",
    "\n",
    "# Standardizing the features (important for logistic regression models)\n",
    "scaler = StandardScaler()\n",
    "X_train_scaled = scaler.fit_transform(X_train)\n",
    "X_test_scaled = scaler.transform(X_test)\n",
    "\n",
    "\n",
    "# Creating the SVM model\n",
    "# 'class_weight='balanced'' will automatically adjust weights inversely proportional to class frequencies\n",
    "svm_model = SVC(kernel='linear', class_weight='balanced', probability=True)\n",
    "\n",
    "# Fitting the model to the training data\n",
    "svm_model.fit(X_train_scaled, y_train)\n",
    "\n",
    "# Making predictions on the test data\n",
    "y_pred = svm_model.predict(X_test_scaled)\n",
    "\n",
    "# Evaluating the classifier\n",
    "print(\"Classification Report:\")\n",
    "print(classification_report(y_test, y_pred))\n",
    "\n",
    "print(\"Confusion Matrix:\")\n",
    "print(confusion_matrix(y_test, y_pred))\n"
   ]
  },
  {
   "cell_type": "code",
   "execution_count": null,
   "metadata": {},
   "outputs": [],
   "source": []
  }
 ],
 "metadata": {
  "kernelspec": {
   "display_name": ".venv",
   "language": "python",
   "name": "python3"
  },
  "language_info": {
   "codemirror_mode": {
    "name": "ipython",
    "version": 3
   },
   "file_extension": ".py",
   "mimetype": "text/x-python",
   "name": "python",
   "nbconvert_exporter": "python",
   "pygments_lexer": "ipython3",
   "version": "3.12.0"
  }
 },
 "nbformat": 4,
 "nbformat_minor": 2
}
